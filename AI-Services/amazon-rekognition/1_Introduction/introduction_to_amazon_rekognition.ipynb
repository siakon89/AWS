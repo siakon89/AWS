{
 "cells": [
  {
   "cell_type": "code",
   "execution_count": null,
   "metadata": {},
   "outputs": [],
   "source": [
    "import boto3\n",
    "from boto3.s3.transfer import TransferConfig"
   ]
  },
  {
   "cell_type": "markdown",
   "metadata": {},
   "source": [
    "# Upload the files in S3"
   ]
  },
  {
   "cell_type": "code",
   "execution_count": null,
   "metadata": {},
   "outputs": [],
   "source": [
    "BUCKET = \"<your bucket>\"\n",
    "REGION = \"<your region>\"\n",
    "DATA_DIR = \"<folder with your data>\"\n",
    "PROFILE = \"<your profile>\""
   ]
  },
  {
   "cell_type": "code",
   "execution_count": null,
   "metadata": {},
   "outputs": [],
   "source": [
    "def upload_to_s3(file_name, key, bucket=BUCKET, region=REGION):\n",
    "\n",
    "    # Multipart upload config\n",
    "    config = TransferConfig(\n",
    "        multipart_threshold=1024 * 25,\n",
    "        max_concurrency=10,\n",
    "        multipart_chunksize=1024 * 25,\n",
    "        use_threads=True,\n",
    "    )\n",
    "    \n",
    "    # I have separate profiles in aws so I have to define one here\n",
    "    # in order to authenticate myself to my account\n",
    "    # If you do not have multiple profiles, just remove the argument\n",
    "    session = boto3.Session(profile_name=PROFILE)\n",
    "    \n",
    "    s3 = session.client(\"s3\", region_name=region)\n",
    "    \n",
    "    # Upload file to S3\n",
    "    s3.upload_file(file_name, bucket, key, Config=config)"
   ]
  },
  {
   "cell_type": "code",
   "execution_count": null,
   "metadata": {},
   "outputs": [],
   "source": [
    "from os import listdir\n",
    "from os.path import isfile, join\n",
    "data_files = [f for f in listdir(DATA_DIR) if isfile(join(DATA_DIR, f))]"
   ]
  },
  {
   "cell_type": "code",
   "execution_count": null,
   "metadata": {},
   "outputs": [],
   "source": [
    "for file_name in data_files:\n",
    "    file_path = join(DATA_DIR, file_name)\n",
    "    upload_to_s3(file_path, file_name, bucket=BUCKET, region=REGION)"
   ]
  },
  {
   "cell_type": "markdown",
   "metadata": {},
   "source": [
    "# Ask Amazon Rekognition"
   ]
  },
  {
   "cell_type": "markdown",
   "metadata": {},
   "source": [
    "## Detect Labels"
   ]
  },
  {
   "cell_type": "code",
   "execution_count": null,
   "metadata": {},
   "outputs": [],
   "source": [
    "# From Alex Casalboni: https://gist.github.com/alexcasalboni/0f21a1889f09760f8981b643326730ff\n",
    "def detect_labels(bucket, key, max_labels=10, min_confidence=95, region=REGION):\n",
    "    \n",
    "    # I have separate profiles in aws so I have to define one here\n",
    "    # in order to authenticate myself to my account\n",
    "    # If you do not have multiple profiles, just remove the argument\n",
    "    session = boto3.Session(profile_name=PROFILE)\n",
    "    \n",
    "    rekognition = session.client(\"rekognition\", region)\n",
    "    response = rekognition.detect_labels(\n",
    "        Image={\n",
    "            \"S3Object\": {\n",
    "                \"Bucket\": bucket,\n",
    "                \"Name\": key,\n",
    "            }\n",
    "        },\n",
    "        MaxLabels=max_labels,\n",
    "        MinConfidence=min_confidence,\n",
    "    )\n",
    "    return response.get('Labels', None)"
   ]
  },
  {
   "cell_type": "code",
   "execution_count": null,
   "metadata": {},
   "outputs": [],
   "source": [
    "labels = detect_labels(BUCKET, \"new_york.jpeg\")"
   ]
  },
  {
   "cell_type": "code",
   "execution_count": null,
   "metadata": {},
   "outputs": [],
   "source": [
    "labels"
   ]
  },
  {
   "cell_type": "code",
   "execution_count": null,
   "metadata": {},
   "outputs": [],
   "source": [
    "for label in labels:\n",
    "    print(f\"{label['Name']} - {label['Confidence']}\")"
   ]
  },
  {
   "cell_type": "markdown",
   "metadata": {},
   "source": [
    "## Facial Analysis"
   ]
  },
  {
   "cell_type": "code",
   "execution_count": null,
   "metadata": {},
   "outputs": [],
   "source": [
    "# From Alex Casalboni: https://gist.github.com/alexcasalboni/0f21a1889f09760f8981b643326730ff\n",
    "def detect_faces(bucket, key, attributes=['ALL'], region=REGION):\n",
    "    \n",
    "    # I have separate profiles in aws so I have to define one here\n",
    "    # in order to authenticate myself to my account\n",
    "    # If you do not have multiple profiles, just remove the argument\n",
    "    session = boto3.Session(profile_name='<profile bname>')\n",
    "    \n",
    "    rekognition = session.client(\"rekognition\", region)\n",
    "    response = rekognition.detect_faces(\n",
    "        Image={\n",
    "            \"S3Object\": {\n",
    "                \"Bucket\": bucket,\n",
    "                \"Name\": key,\n",
    "            }\n",
    "        },\n",
    "        Attributes=attributes,\n",
    "    )\n",
    "    return response.get('FaceDetails', None)"
   ]
  },
  {
   "cell_type": "code",
   "execution_count": null,
   "metadata": {},
   "outputs": [],
   "source": [
    "labels = detect_labels(BUCKET, \"kostas.jpg\")"
   ]
  },
  {
   "cell_type": "code",
   "execution_count": null,
   "metadata": {},
   "outputs": [],
   "source": [
    "for label in labels:\n",
    "    print(f\"{label['Name']} - {label['Confidence']}\")"
   ]
  },
  {
   "cell_type": "code",
   "execution_count": null,
   "metadata": {},
   "outputs": [],
   "source": [
    "labels"
   ]
  }
 ],
 "metadata": {
  "kernelspec": {
   "display_name": "machine_learning",
   "language": "python",
   "name": "machine_learning"
  },
  "language_info": {
   "codemirror_mode": {
    "name": "ipython",
    "version": 3
   },
   "file_extension": ".py",
   "mimetype": "text/x-python",
   "name": "python",
   "nbconvert_exporter": "python",
   "pygments_lexer": "ipython3",
   "version": "3.6.8"
  },
  "toc": {
   "base_numbering": 1,
   "nav_menu": {},
   "number_sections": true,
   "sideBar": true,
   "skip_h1_title": false,
   "title_cell": "Table of Contents",
   "title_sidebar": "Contents",
   "toc_cell": false,
   "toc_position": {},
   "toc_section_display": true,
   "toc_window_display": false
  },
  "varInspector": {
   "cols": {
    "lenName": 16,
    "lenType": 16,
    "lenVar": 40
   },
   "kernels_config": {
    "python": {
     "delete_cmd_postfix": "",
     "delete_cmd_prefix": "del ",
     "library": "var_list.py",
     "varRefreshCmd": "print(var_dic_list())"
    },
    "r": {
     "delete_cmd_postfix": ") ",
     "delete_cmd_prefix": "rm(",
     "library": "var_list.r",
     "varRefreshCmd": "cat(var_dic_list()) "
    }
   },
   "types_to_exclude": [
    "module",
    "function",
    "builtin_function_or_method",
    "instance",
    "_Feature"
   ],
   "window_display": false
  }
 },
 "nbformat": 4,
 "nbformat_minor": 2
}
