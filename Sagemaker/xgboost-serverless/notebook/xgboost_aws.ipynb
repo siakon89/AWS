{
 "cells": [
  {
   "cell_type": "code",
   "execution_count": 3,
   "metadata": {
    "scrolled": true
   },
   "outputs": [],
   "source": [
    "import numpy as np                                # For matrix operations and numerical processing\n",
    "import pandas as pd                               # For munging tabular data\n",
    "import os                                         # For manipulating filepath names\n",
    "import sagemaker                                  # Amazon SageMaker's Python SDK provides many helper functions\n",
    "from sagemaker import image_uris\n",
    "from sagemaker.inputs import TrainingInput\n",
    "from sagemaker.estimator import Estimator\n",
    "from sagemaker.serializers import CSVSerializer\n",
    "from botocore.exceptions import ClientError\n",
    "\n",
    "import boto3\n",
    "import re\n",
    "\n",
    "from sklearn import datasets\n",
    "from sklearn.model_selection import train_test_split"
   ]
  },
  {
   "cell_type": "code",
   "execution_count": 4,
   "metadata": {},
   "outputs": [],
   "source": [
    "def resolve_sm_role():\n",
    "    client = boto3.Session(profile_name='default', region_name='us-east-1').client('iam')\n",
    "    response_roles = client.list_roles(\n",
    "        PathPrefix='/',\n",
    "        # Marker='string',\n",
    "        MaxItems=999\n",
    "    )\n",
    "    for role in response_roles['Roles']:\n",
    "        if role['RoleName'].startswith('AmazonSageMaker-ExecutionRole-'):\n",
    "            return role['Arn']\n",
    "    raise Exception('Could not resolve what should be the SageMaker role to be used')\n",
    "    \n",
    "def upload_file(bucket, file_name, prefix):\n",
    "    \"\"\"Upload a file to an S3 bucket\n",
    "\n",
    "    :param file_name: File to upload\n",
    "    :param bucket: Bucket to upload to\n",
    "    :param object_name: S3 object name. If not specified then file_name is used\n",
    "    :return: True if file was uploaded, else False\n",
    "    \"\"\"\n",
    "\n",
    "    # Upload the file\n",
    "    s3_client = boto3.Session(profile_name='default', region_name='us-east-1').client('s3')\n",
    "    try:\n",
    "        response = s3_client.upload_file(file_name, bucket, os.path.join(prefix, file_name))\n",
    "    except ClientError as e:\n",
    "        logging.error(e)\n",
    "        return False\n",
    "    return True"
   ]
  },
  {
   "cell_type": "code",
   "execution_count": 5,
   "metadata": {},
   "outputs": [],
   "source": [
    "role = resolve_sm_role()\n",
    "\n",
    "prefix = 'xgboost/iris'\n",
    "bucket = 'siakondev-sagemaker-models-us-east-1'"
   ]
  },
  {
   "cell_type": "code",
   "execution_count": 6,
   "metadata": {},
   "outputs": [],
   "source": [
    "iris = datasets.load_iris()\n",
    "X = iris.data\n",
    "y = iris.target"
   ]
  },
  {
   "cell_type": "code",
   "execution_count": 7,
   "metadata": {},
   "outputs": [],
   "source": [
    "X_train, X_test, y_train, y_test = train_test_split(X, y, test_size=0.20, random_state=42)"
   ]
  },
  {
   "cell_type": "code",
   "execution_count": 8,
   "metadata": {},
   "outputs": [],
   "source": [
    "pd.DataFrame(X_train).to_csv(\"x_train.csv\", index=False, header=False)\n",
    "pd.DataFrame(y_train).to_csv(\"y_train.csv\", index=False, header=False)\n",
    "\n",
    "pd.DataFrame(X_test).to_csv(\"x_test.csv\", index=False, header=False)\n",
    "pd.DataFrame(y_test).to_csv(\"y_test.csv\", index=False, header=False)"
   ]
  },
  {
   "cell_type": "code",
   "execution_count": 9,
   "metadata": {
    "scrolled": true
   },
   "outputs": [
    {
     "data": {
      "text/plain": [
       "True"
      ]
     },
     "execution_count": 9,
     "metadata": {},
     "output_type": "execute_result"
    }
   ],
   "source": [
    "upload_file(bucket, 'x_train.csv', f'{prefix}/train')\n",
    "upload_file(bucket, 'y_train.csv', f'{prefix}/train')\n",
    "upload_file(bucket, 'x_test.csv', f'{prefix}/test')\n",
    "upload_file(bucket, 'y_test.csv', f'{prefix}/test')"
   ]
  },
  {
   "cell_type": "code",
   "execution_count": 10,
   "metadata": {},
   "outputs": [],
   "source": [
    "s3_input_train = TrainingInput(s3_data=f\"s3://{bucket}/{prefix}/train\", content_type='csv')\n",
    "s3_input_validation = TrainingInput(s3_data=f\"s3://{bucket}/{prefix}/test\", content_type='csv')"
   ]
  },
  {
   "cell_type": "code",
   "execution_count": 11,
   "metadata": {},
   "outputs": [
    {
     "data": {
      "text/plain": [
       "(<sagemaker.inputs.TrainingInput at 0x12c34c198>,\n",
       " <sagemaker.inputs.TrainingInput at 0x12c34c198>)"
      ]
     },
     "execution_count": 11,
     "metadata": {},
     "output_type": "execute_result"
    }
   ],
   "source": [
    "s3_input_train, s3_input_train"
   ]
  },
  {
   "cell_type": "code",
   "execution_count": 12,
   "metadata": {},
   "outputs": [],
   "source": [
    "container = image_uris.retrieve('xgboost', 'us-east-1', '1.2-1' )"
   ]
  },
  {
   "cell_type": "code",
   "execution_count": 13,
   "metadata": {},
   "outputs": [],
   "source": [
    "s3_output_location = f's3://{bucket}/{prefix}/model_output'"
   ]
  },
  {
   "cell_type": "code",
   "execution_count": 14,
   "metadata": {},
   "outputs": [
    {
     "data": {
      "text/plain": [
       "('arn:aws:iam::988095220859:role/service-role/AmazonSageMaker-ExecutionRole-20180610T105283',\n",
       " '683313688378.dkr.ecr.us-east-1.amazonaws.com/sagemaker-xgboost:1.2-1',\n",
       " 's3://siakondev-sagemaker-models-us-east-1/xgboost/iris/model_output')"
      ]
     },
     "execution_count": 14,
     "metadata": {},
     "output_type": "execute_result"
    }
   ],
   "source": [
    "role, container, s3_output_location"
   ]
  },
  {
   "cell_type": "code",
   "execution_count": 15,
   "metadata": {},
   "outputs": [],
   "source": [
    "xgb = sagemaker.estimator.Estimator(\n",
    "    container, \n",
    "    role=role,\n",
    "    instance_count=1, \n",
    "    instance_type='ml.m5.large',\n",
    "    input_mode= 'File',\n",
    "    output_path=s3_output_location,\n",
    "    session=boto3.Session(profile_name='default', region_name='us-east-1')\n",
    ")"
   ]
  },
  {
   "cell_type": "code",
   "execution_count": 16,
   "metadata": {},
   "outputs": [],
   "source": [
    "xgb.set_hyperparameters(\n",
    "    max_depth=5,\n",
    "    eta=0.2,\n",
    "    gamma=4,\n",
    "    min_child_weight=6,\n",
    "    subsample=0.8,\n",
    "    objective='binary:logistic',\n",
    "    num_round=100\n",
    ")"
   ]
  },
  {
   "cell_type": "code",
   "execution_count": 17,
   "metadata": {},
   "outputs": [
    {
     "name": "stdout",
     "output_type": "stream",
     "text": [
      "2021-05-22 13:18:07 Starting - Starting the training job...\n",
      "2021-05-22 13:18:50 Starting - Launching requested ML instancesProfilerReport-1621689479: InProgress\n",
      "......\n",
      "2021-05-22 13:19:50 Starting - Preparing the instances for training...\n",
      "2021-05-22 13:20:40 Downloading - Downloading input data..\n",
      "2021-05-22 13:21:10 Training - Downloading the training image...\n",
      "2021-05-22 13:21:53 Uploading - Uploading generated training model\n",
      "2021-05-22 13:21:53 Failed - Training job failed\n",
      "\u001b[34m[2021-05-22 13:21:45.578 ip-10-2-124-78.ec2.internal:1 INFO utils.py:27] RULE_JOB_STOP_SIGNAL_FILENAME: None\u001b[0m\n",
      "\u001b[34mINFO:sagemaker-containers:Imported framework sagemaker_xgboost_container.training\u001b[0m\n",
      "\u001b[34mINFO:sagemaker-containers:Failed to parse hyperparameter objective value binary:logistic to Json.\u001b[0m\n",
      "\u001b[34mReturning the value itself\u001b[0m\n",
      "\u001b[34mINFO:sagemaker-containers:No GPUs detected (normal if no gpus installed)\u001b[0m\n",
      "\u001b[34mINFO:sagemaker_xgboost_container.training:Running XGBoost Sagemaker in algorithm mode\u001b[0m\n",
      "\u001b[34mINFO:root:Determined delimiter of CSV input is '0'\u001b[0m\n",
      "\u001b[34mINFO:root:Determined delimiter of CSV input is ','\u001b[0m\n",
      "\u001b[34mINFO:root:Determined delimiter of CSV input is ','\u001b[0m\n",
      "\u001b[34mINFO:root:Determined delimiter of CSV input is '1'\u001b[0m\n",
      "\u001b[34mINFO:root:Determined delimiter of CSV input is '0'\u001b[0m\n",
      "\u001b[34mERROR:sagemaker-containers:Reporting training FAILURE\u001b[0m\n",
      "\u001b[34mERROR:sagemaker-containers:framework error: \u001b[0m\n",
      "\u001b[34mTraceback (most recent call last):\n",
      "  File \"/miniconda3/lib/python3.7/site-packages/sagemaker_xgboost_container/data_utils.py\", line 287, in _get_csv_dmatrix_file_mode\n",
      "    dmatrix = xgb.DMatrix('{}?format=csv&label_column=0&delimiter={}'.format(files_path, delimiter))\n",
      "  File \"/miniconda3/lib/python3.7/site-packages/xgboost/core.py\", line 438, in __init__\n",
      "    feature_types=feature_types)\n",
      "  File \"/miniconda3/lib/python3.7/site-packages/xgboost/data.py\", line 497, in dispatch_data_backend\n",
      "    return _from_uri(data, missing, feature_names, feature_types)\n",
      "  File \"/miniconda3/lib/python3.7/site-packages/xgboost/data.py\", line 458, in _from_uri\n",
      "    ctypes.byref(handle)))\n",
      "  File \"/miniconda3/lib/python3.7/site-packages/xgboost/core.py\", line 188, in _check_call\n",
      "    raise XGBoostError(py_str(_LIB.XGBGetLastError()))\u001b[0m\n",
      "\u001b[34mxgboost.core.XGBoostError: [13:21:45] ../src/data/data.cc:672: Encountered parser error:\u001b[0m\n",
      "\u001b[34m[13:21:45] ../dmlc-core/src/data/csv_parser.h:130: Delimiter '0' is not found in the line. Expected '0' as the delimiter to separate fields.\u001b[0m\n",
      "\u001b[34mStack trace:\n",
      "  [bt] (0) /miniconda3/lib/python3.7/site-packages/xgboost/lib/libxgboost.so(+0xa5dc4) [0x7efc8bbd2dc4]\n",
      "  [bt] (1) /miniconda3/lib/python3.7/site-packages/xgboost/lib/libxgboost.so(dmlc::data::CSVParser<unsigned int, float>::ParseBlock(char const*, char const*, dmlc::data::RowBlockContainer<unsigned int, float>*)+0x3c5) [0x7efc8c0084d5]\n",
      "  [bt] (2) /miniconda3/lib/python3.7/site-packages/xgboost/lib/libxgboost.so(std::thread::_Impl<std::_Bind_simple<dmlc::data::TextParserBase<unsigned int, float>::FillData(std::vector<dmlc::data::RowBlockContainer<unsigned int, float>, std::allocator<dmlc::data::RowBlockContainer<unsigned int, float> > >*)::{lambda()#1} ()> >::_M_run()+0xb0) [0x7efc8bfdb400]\n",
      "  [bt] (3) /miniconda3/lib/python3.7/site-packages/xgboost/lib/libxgboost.so(+0x5789a0) [0x7efc8c0a59a0]\n",
      "  [bt] (4) /lib/x86_64-linux-gnu/libpthread.so.0(+0x76db) [0x7efcc603a6db]\n",
      "  [bt] (5) /lib/x86_64-linux-gnu/libc.so.6(clone+0x3f) [0x7efcc5d6371f]\n",
      "\n",
      "\u001b[0m\n",
      "\u001b[34mStack trace:\n",
      "  [bt] (0) /miniconda3/lib/python3.7/site-packages/xgboost/lib/libxgboost.so(+0xa5dc4) [0x7efc8bbd2dc4]\n",
      "  [bt] (1) /miniconda3/lib/python3.7/site-packages/xgboost/lib/libxgboost.so(+0x113f82) [0x7efc8bc40f82]\n",
      "  [bt] (2) /miniconda3/lib/python3.7/site-packages/xgboost/lib/libxgboost.so(XGDMatrixCreateFromFile+0xc7) [0x7efc8bbcd697]\n",
      "  [bt] (3) /miniconda3/lib/python3.7/lib-dynload/../../libffi.so.7(+0x69dd) [0x7efcbf6229dd]\n",
      "  [bt] (4) /miniconda3/lib/python3.7/lib-dynload/../../libffi.so.7(+0x6067) [0x7efcbf622067]\n",
      "  [bt] (5) /miniconda3/lib/python3.7/lib-dynload/_ctypes.cpython-37m-x86_64-linux-gnu.so(_ctypes_callproc+0x2e7) [0x7efcbf63a3b7]\n",
      "  [bt] (6) /miniconda3/lib/python3.7/lib-dynload/_ctypes.cpython-37m-x86_64-linux-gnu.so(+0x12e24) [0x7efcbf63ae24]\n",
      "  [bt] (7) /miniconda3/bin/python3(_PyObject_FastCallKeywords+0x48b) [0x5641649b9c9b]\n",
      "  [bt] (8) /miniconda3/bin/python3(_PyEval_EvalFrameDefault+0x522e) [0x564164a1f27e]\n",
      "\n",
      "\n",
      "\u001b[0m\n",
      "\u001b[34mDuring handling of the above exception, another exception occurred:\n",
      "\u001b[0m\n",
      "\u001b[34mTraceback (most recent call last):\n",
      "  File \"/miniconda3/lib/python3.7/site-packages/sagemaker_containers/_trainer.py\", line 84, in train\n",
      "    entrypoint()\n",
      "  File \"/miniconda3/lib/python3.7/site-packages/sagemaker_xgboost_container/training.py\", line 94, in main\n",
      "    train(framework.training_env())\n",
      "  File \"/miniconda3/lib/python3.7/site-packages/sagemaker_xgboost_container/training.py\", line 90, in train\n",
      "    run_algorithm_mode()\n",
      "  File \"/miniconda3/lib/python3.7/site-packages/sagemaker_xgboost_container/training.py\", line 68, in run_algorithm_mode\n",
      "    checkpoint_config=checkpoint_config\n",
      "  File \"/miniconda3/lib/python3.7/site-packages/sagemaker_xgboost_container/algorithm_mode/train.py\", line 137, in sagemaker_train\n",
      "    csv_weights, is_pipe, combine_train_val)\n",
      "  File \"/miniconda3/lib/python3.7/site-packages/sagemaker_xgboost_container/algorithm_mode/train.py\", line 85, in get_validated_dmatrices\n",
      "    if train_files_size > 0 else None\n",
      "  File \"/miniconda3/lib/python3.7/site-packages/sagemaker_xgboost_container/data_utils.py\", line 543, in get_dmatrix\n",
      "    dmatrix = get_csv_dmatrix(files_path, csv_weights, is_pipe)\n",
      "  File \"/miniconda3/lib/python3.7/site-packages/sagemaker_xgboost_container/data_utils.py\", line 351, in get_csv_dmatrix\n",
      "    return _get_csv_dmatrix_file_mode(path, csv_weights)\n",
      "  File \"/miniconda3/lib/python3.7/site-packages/sagemaker_xgboost_container/data_utils.py\", line 290, in _get_csv_dmatrix_file_mode\n",
      "    raise exc.UserError(\"Failed to load csv data with exception:\\n{}\".format(e))\u001b[0m\n",
      "\u001b[34msagemaker_algorithm_toolkit.exceptions.UserError: Failed to load csv data with exception:\u001b[0m\n",
      "\u001b[34m[13:21:45] ../src/data/data.cc:672: Encountered parser error:\u001b[0m\n",
      "\u001b[34m[13:21:45] ../dmlc-core/src/data/csv_parser.h:130: Delimiter '0' is not found in the line. Expected '0' as the delimiter to separate fields.\u001b[0m\n",
      "\u001b[34mStack trace:\n",
      "  [bt] (0) /miniconda3/lib/python3.7/site-packages/xgboost/lib/libxgboost.so(+0xa5dc4) [0x7efc8bbd2dc4]\n",
      "  [bt] (1) /miniconda3/lib/python3.7/site-packages/xgboost/lib/libxgboost.so(dmlc::data::CSVParser<unsigned int, float>::ParseBlock(char const*, char const*, dmlc::data::RowBlockContainer<unsigned int, float>*)+0x3c5) [0x7efc8c0084d5]\n",
      "  [bt] (2) /miniconda3/lib/python3.7/site-packages/xgboost/lib/libxgboost.so(std::thread::_Impl<std::_Bind_simple<dmlc::data::TextParserBase<unsigned int, float>::FillData(std::vector<dmlc::data::RowBlockContainer<unsigned int, float>, std::allocator<dmlc::data::RowBlockContainer<unsigned int, float> > >*)::{lambda()#1} ()> >::_M_run()+0xb0) [0x7efc8bfdb400]\n",
      "  [bt] (3) /miniconda3/lib/python3.7/site-packages/xgboost/lib/libxgboost.so(+0x5789a0) [0x7efc8c0a59a0]\n",
      "  [bt] (4) /lib/x86_64-linux-gnu/libpthread.so.0(+0x76db) [0x7efcc603a6db]\n",
      "  [bt] (5) /lib/x86_64-linux-gnu/libc.so.6(clone+0x3f) [0x7efcc5d6371f]\n",
      "\n",
      "\u001b[0m\n",
      "\u001b[34mStack trace:\n",
      "  [bt] (0) /miniconda3/lib/python3.7/site-packages/xgboost/lib/libxgboost.so(+0xa5dc4) [0x7efc8bbd2dc4]\n",
      "  [bt] (1) /miniconda3/lib/python3.7/site-packages/xgboost/lib/libxgboost.so(+0x113f82) [0x7efc8bc40f82]\n",
      "  [bt] (2) /miniconda3/lib/python3.7/site-packages/xgboost/lib/libxgboost.so(XGDMatrixCreateFromFile+0xc7) [0x7efc8bbcd697]\n",
      "  [bt] (3) /miniconda3/lib/python3.7/lib-dynload/../../libffi.so.7(+0x69dd) [0x7efcbf6229dd]\n",
      "  [bt] (4) /miniconda3/lib/python3.7/lib-dynload/../../libffi.so.7(+0x6067) [0x7efcbf622067]\n",
      "  [bt] (5) /miniconda3/lib/python3.7/lib-dynload/_ctypes.cpython-37m-x86_64-linux-gnu.so(_ctypes_callproc+0x2e7) [0x7efcbf63a3b7]\n",
      "  [bt] (6) /miniconda3/lib/python3.7/lib-dynload/_ctypes.cpython-37m-x86_64-linux-gnu.so(+0x12e24) [0x7efcbf63ae24]\n",
      "  [bt] (7) /miniconda3/bin/python3(_PyObject_FastCallKeywords+0x48b) [0x5641649b9c9b]\n",
      "  [bt] (8) /miniconda3/bin/python3(_PyEval_EvalFrameDefault+0x522e) [0x564164a1f27e]\n",
      "\n",
      "\n",
      "\u001b[0m\n",
      "\u001b[34mFailed to load csv data with exception:\u001b[0m\n",
      "\u001b[34m[13:21:45] ../src/data/data.cc:672: Encountered parser error:\u001b[0m\n",
      "\u001b[34m[13:21:45] ../dmlc-core/src/data/csv_parser.h:130: Delimiter '0' is not found in the line. Expected '0' as the delimiter to separate fields.\u001b[0m\n",
      "\u001b[34mStack trace:\n",
      "  [bt] (0) /miniconda3/lib/python3.7/site-packages/xgboost/lib/libxgboost.so(+0xa5dc4) [0x7efc8bbd2dc4]\n",
      "  [bt] (1) /miniconda3/lib/python3.7/site-packages/xgboost/lib/libxgboost.so(dmlc::data::CSVParser<unsigned int, float>::ParseBlock(char const*, char const*, dmlc::data::RowBlockContainer<unsigned int, float>*)+0x3c5) [0x7efc8c0084d5]\n",
      "  [bt] (2) /miniconda3/lib/python3.7/site-packages/xgboost/lib/libxgboost.so(std::thread::_Impl<std::_Bind_simple<dmlc::data::TextParserBase<unsigned int, float>::FillData(std::vector<dmlc::data::RowBlockContainer<unsigned int, float>, std::allocator<dmlc::data::RowBlockContainer<unsigned int, float> > >*)::{lambda()#1} ()> >::_M_run()+0xb0) [0x7efc8bfdb400]\n",
      "  [bt] (3) /miniconda3/lib/python3.7/site-packages/xgboost/lib/libxgboost.so(+0x5789a0) [0x7efc8c0a59a0]\n",
      "  [bt] (4) /lib/x86_64-linux-gnu/libpthread.so.0(+0x76db) [0x7efcc603a6db]\n",
      "  [bt] (5) /lib/x86_64-linux-gnu/libc.so.6(clone+0x3f) [0x7efcc5d6371f]\n",
      "\n",
      "\u001b[0m\n",
      "\u001b[34mStack trace:\n",
      "  [bt] (0) /miniconda3/lib/python3.7/site-packages/xgboost/lib/libxgboost.so(+0xa5dc4) [0x7efc8bbd2dc4]\n",
      "  [bt] (1) /miniconda3/lib/python3.7/site-packages/xgboost/lib/libxgboost.so(+0x113f82) [0x7efc8bc40f82]\n",
      "  [bt] (2) /miniconda3/lib/python3.7/site-packages/xgboost/lib/libxgboost.so(XGDMatrixCreateFromFile+0xc7) [0x7efc8bbcd697]\n",
      "  [bt] (3) /miniconda3/lib/python3.7/lib-dynload/../../libffi.so.7(+0x69dd) [0x7efcbf6229dd]\n",
      "  [bt] (4) /miniconda3/lib/python3.7/lib-dynload/../../libffi.so.7(+0x6067) [0x7efcbf622067]\n",
      "  [bt] (5) /miniconda3/lib/python3.7/lib-dynload/_ctypes.cpython-37m-x86_64-linux-gnu.so(_ctypes_callproc+0x2e7) [0x7efcbf63a3b7]\n",
      "  [bt] (6) /miniconda3/lib/python3.7/lib-dynload/_ctypes.cpython-37m-x86_64-linux-gnu.so(+0x12e24) [0x7efcbf63ae24]\n",
      "  [bt] (7) /miniconda3/bin/python3(_PyObject_FastCallKeywords+0x48b) [0x5641649b9c9b]\n",
      "  [bt] (8) /miniconda3/bin/python3(_PyEval_EvalFrameDefault+0x522e) [0x564164a1f27e]\n",
      "\n",
      "\u001b[0m\n"
     ]
    },
    {
     "ename": "UnexpectedStatusException",
     "evalue": "Error for Training job sagemaker-xgboost-2021-05-22-13-17-59-856: Failed. Reason: AlgorithmError: framework error: \nTraceback (most recent call last):\n  File \"/miniconda3/lib/python3.7/site-packages/sagemaker_xgboost_container/data_utils.py\", line 287, in _get_csv_dmatrix_file_mode\n    dmatrix = xgb.DMatrix('{}?format=csv&label_column=0&delimiter={}'.format(files_path, delimiter))\n  File \"/miniconda3/lib/python3.7/site-packages/xgboost/core.py\", line 438, in __init__\n    feature_types=feature_types)\n  File \"/miniconda3/lib/python3.7/site-packages/xgboost/data.py\", line 497, in dispatch_data_backend\n    return _from_uri(data, missing, feature_names, feature_types)\n  File \"/miniconda3/lib/python3.7/site-packages/xgboost/data.py\", line 458, in _from_uri\n    ctypes.byref(handle)))\n  File \"/miniconda3/lib/python3.7/site-packages/xgboost/core.py\", line 188, in _check_call\n    raise XGBoostError(py_str(_LIB.XGBGetLastError()))\nxgboost.core.XGBoostError: [13:21:45] ../src/data/data.cc:672: Encountered parser error:\n[13:21:45] ../dmlc-core/src/data/csv_parser.h:130: Delimiter '0' is not found in th",
     "output_type": "error",
     "traceback": [
      "\u001b[0;31m---------------------------------------------------------------------------\u001b[0m",
      "\u001b[0;31mUnexpectedStatusException\u001b[0m                 Traceback (most recent call last)",
      "\u001b[0;32m<ipython-input-17-7af3600ecaf7>\u001b[0m in \u001b[0;36m<module>\u001b[0;34m\u001b[0m\n\u001b[0;32m----> 1\u001b[0;31m \u001b[0mxgb\u001b[0m\u001b[0;34m.\u001b[0m\u001b[0mfit\u001b[0m\u001b[0;34m(\u001b[0m\u001b[0;34m{\u001b[0m\u001b[0;34m'train'\u001b[0m\u001b[0;34m:\u001b[0m \u001b[0ms3_input_train\u001b[0m\u001b[0;34m,\u001b[0m \u001b[0;34m'validation'\u001b[0m\u001b[0;34m:\u001b[0m \u001b[0ms3_input_validation\u001b[0m\u001b[0;34m}\u001b[0m\u001b[0;34m,\u001b[0m \u001b[0mlogs\u001b[0m\u001b[0;34m=\u001b[0m\u001b[0;32mTrue\u001b[0m\u001b[0;34m)\u001b[0m\u001b[0;34m\u001b[0m\u001b[0m\n\u001b[0m",
      "\u001b[0;32m~/.venvs/ml/lib/python3.6/site-packages/sagemaker/estimator.py\u001b[0m in \u001b[0;36mfit\u001b[0;34m(self, inputs, wait, logs, job_name, experiment_config)\u001b[0m\n\u001b[1;32m    680\u001b[0m         \u001b[0mself\u001b[0m\u001b[0;34m.\u001b[0m\u001b[0mjobs\u001b[0m\u001b[0;34m.\u001b[0m\u001b[0mappend\u001b[0m\u001b[0;34m(\u001b[0m\u001b[0mself\u001b[0m\u001b[0;34m.\u001b[0m\u001b[0mlatest_training_job\u001b[0m\u001b[0;34m)\u001b[0m\u001b[0;34m\u001b[0m\u001b[0m\n\u001b[1;32m    681\u001b[0m         \u001b[0;32mif\u001b[0m \u001b[0mwait\u001b[0m\u001b[0;34m:\u001b[0m\u001b[0;34m\u001b[0m\u001b[0m\n\u001b[0;32m--> 682\u001b[0;31m             \u001b[0mself\u001b[0m\u001b[0;34m.\u001b[0m\u001b[0mlatest_training_job\u001b[0m\u001b[0;34m.\u001b[0m\u001b[0mwait\u001b[0m\u001b[0;34m(\u001b[0m\u001b[0mlogs\u001b[0m\u001b[0;34m=\u001b[0m\u001b[0mlogs\u001b[0m\u001b[0;34m)\u001b[0m\u001b[0;34m\u001b[0m\u001b[0m\n\u001b[0m\u001b[1;32m    683\u001b[0m \u001b[0;34m\u001b[0m\u001b[0m\n\u001b[1;32m    684\u001b[0m     \u001b[0;32mdef\u001b[0m \u001b[0m_compilation_job_name\u001b[0m\u001b[0;34m(\u001b[0m\u001b[0mself\u001b[0m\u001b[0;34m)\u001b[0m\u001b[0;34m:\u001b[0m\u001b[0;34m\u001b[0m\u001b[0m\n",
      "\u001b[0;32m~/.venvs/ml/lib/python3.6/site-packages/sagemaker/estimator.py\u001b[0m in \u001b[0;36mwait\u001b[0;34m(self, logs)\u001b[0m\n\u001b[1;32m   1623\u001b[0m         \u001b[0;31m# If logs are requested, call logs_for_jobs.\u001b[0m\u001b[0;34m\u001b[0m\u001b[0;34m\u001b[0m\u001b[0m\n\u001b[1;32m   1624\u001b[0m         \u001b[0;32mif\u001b[0m \u001b[0mlogs\u001b[0m \u001b[0;34m!=\u001b[0m \u001b[0;34m\"None\"\u001b[0m\u001b[0;34m:\u001b[0m\u001b[0;34m\u001b[0m\u001b[0m\n\u001b[0;32m-> 1625\u001b[0;31m             \u001b[0mself\u001b[0m\u001b[0;34m.\u001b[0m\u001b[0msagemaker_session\u001b[0m\u001b[0;34m.\u001b[0m\u001b[0mlogs_for_job\u001b[0m\u001b[0;34m(\u001b[0m\u001b[0mself\u001b[0m\u001b[0;34m.\u001b[0m\u001b[0mjob_name\u001b[0m\u001b[0;34m,\u001b[0m \u001b[0mwait\u001b[0m\u001b[0;34m=\u001b[0m\u001b[0;32mTrue\u001b[0m\u001b[0;34m,\u001b[0m \u001b[0mlog_type\u001b[0m\u001b[0;34m=\u001b[0m\u001b[0mlogs\u001b[0m\u001b[0;34m)\u001b[0m\u001b[0;34m\u001b[0m\u001b[0m\n\u001b[0m\u001b[1;32m   1626\u001b[0m         \u001b[0;32melse\u001b[0m\u001b[0;34m:\u001b[0m\u001b[0;34m\u001b[0m\u001b[0m\n\u001b[1;32m   1627\u001b[0m             \u001b[0mself\u001b[0m\u001b[0;34m.\u001b[0m\u001b[0msagemaker_session\u001b[0m\u001b[0;34m.\u001b[0m\u001b[0mwait_for_job\u001b[0m\u001b[0;34m(\u001b[0m\u001b[0mself\u001b[0m\u001b[0;34m.\u001b[0m\u001b[0mjob_name\u001b[0m\u001b[0;34m)\u001b[0m\u001b[0;34m\u001b[0m\u001b[0m\n",
      "\u001b[0;32m~/.venvs/ml/lib/python3.6/site-packages/sagemaker/session.py\u001b[0m in \u001b[0;36mlogs_for_job\u001b[0;34m(self, job_name, wait, poll, log_type)\u001b[0m\n\u001b[1;32m   3679\u001b[0m \u001b[0;34m\u001b[0m\u001b[0m\n\u001b[1;32m   3680\u001b[0m         \u001b[0;32mif\u001b[0m \u001b[0mwait\u001b[0m\u001b[0;34m:\u001b[0m\u001b[0;34m\u001b[0m\u001b[0m\n\u001b[0;32m-> 3681\u001b[0;31m             \u001b[0mself\u001b[0m\u001b[0;34m.\u001b[0m\u001b[0m_check_job_status\u001b[0m\u001b[0;34m(\u001b[0m\u001b[0mjob_name\u001b[0m\u001b[0;34m,\u001b[0m \u001b[0mdescription\u001b[0m\u001b[0;34m,\u001b[0m \u001b[0;34m\"TrainingJobStatus\"\u001b[0m\u001b[0;34m)\u001b[0m\u001b[0;34m\u001b[0m\u001b[0m\n\u001b[0m\u001b[1;32m   3682\u001b[0m             \u001b[0;32mif\u001b[0m \u001b[0mdot\u001b[0m\u001b[0;34m:\u001b[0m\u001b[0;34m\u001b[0m\u001b[0m\n\u001b[1;32m   3683\u001b[0m                 \u001b[0mprint\u001b[0m\u001b[0;34m(\u001b[0m\u001b[0;34m)\u001b[0m\u001b[0;34m\u001b[0m\u001b[0m\n",
      "\u001b[0;32m~/.venvs/ml/lib/python3.6/site-packages/sagemaker/session.py\u001b[0m in \u001b[0;36m_check_job_status\u001b[0;34m(self, job, desc, status_key_name)\u001b[0m\n\u001b[1;32m   3243\u001b[0m                 ),\n\u001b[1;32m   3244\u001b[0m                 \u001b[0mallowed_statuses\u001b[0m\u001b[0;34m=\u001b[0m\u001b[0;34m[\u001b[0m\u001b[0;34m\"Completed\"\u001b[0m\u001b[0;34m,\u001b[0m \u001b[0;34m\"Stopped\"\u001b[0m\u001b[0;34m]\u001b[0m\u001b[0;34m,\u001b[0m\u001b[0;34m\u001b[0m\u001b[0m\n\u001b[0;32m-> 3245\u001b[0;31m                 \u001b[0mactual_status\u001b[0m\u001b[0;34m=\u001b[0m\u001b[0mstatus\u001b[0m\u001b[0;34m,\u001b[0m\u001b[0;34m\u001b[0m\u001b[0m\n\u001b[0m\u001b[1;32m   3246\u001b[0m             )\n\u001b[1;32m   3247\u001b[0m \u001b[0;34m\u001b[0m\u001b[0m\n",
      "\u001b[0;31mUnexpectedStatusException\u001b[0m: Error for Training job sagemaker-xgboost-2021-05-22-13-17-59-856: Failed. Reason: AlgorithmError: framework error: \nTraceback (most recent call last):\n  File \"/miniconda3/lib/python3.7/site-packages/sagemaker_xgboost_container/data_utils.py\", line 287, in _get_csv_dmatrix_file_mode\n    dmatrix = xgb.DMatrix('{}?format=csv&label_column=0&delimiter={}'.format(files_path, delimiter))\n  File \"/miniconda3/lib/python3.7/site-packages/xgboost/core.py\", line 438, in __init__\n    feature_types=feature_types)\n  File \"/miniconda3/lib/python3.7/site-packages/xgboost/data.py\", line 497, in dispatch_data_backend\n    return _from_uri(data, missing, feature_names, feature_types)\n  File \"/miniconda3/lib/python3.7/site-packages/xgboost/data.py\", line 458, in _from_uri\n    ctypes.byref(handle)))\n  File \"/miniconda3/lib/python3.7/site-packages/xgboost/core.py\", line 188, in _check_call\n    raise XGBoostError(py_str(_LIB.XGBGetLastError()))\nxgboost.core.XGBoostError: [13:21:45] ../src/data/data.cc:672: Encountered parser error:\n[13:21:45] ../dmlc-core/src/data/csv_parser.h:130: Delimiter '0' is not found in th"
     ]
    }
   ],
   "source": [
    "xgb.fit({'train': s3_input_train, 'validation': s3_input_validation}, logs=True)"
   ]
  },
  {
   "cell_type": "code",
   "execution_count": null,
   "metadata": {},
   "outputs": [],
   "source": []
  }
 ],
 "metadata": {
  "kernelspec": {
   "display_name": "Python 3",
   "language": "python",
   "name": "python3"
  },
  "language_info": {
   "codemirror_mode": {
    "name": "ipython",
    "version": 3
   },
   "file_extension": ".py",
   "mimetype": "text/x-python",
   "name": "python",
   "nbconvert_exporter": "python",
   "pygments_lexer": "ipython3",
   "version": "3.6.5"
  }
 },
 "nbformat": 4,
 "nbformat_minor": 4
}
